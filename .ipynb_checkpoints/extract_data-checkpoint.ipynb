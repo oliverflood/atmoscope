{
 "cells": [
  {
   "cell_type": "code",
   "execution_count": 5,
   "id": "2d83dad0-547a-43c9-90e4-5f484c06a3fa",
   "metadata": {},
   "outputs": [],
   "source": [
    "import json\n",
    "import pandas as pd\n",
    "import os\n",
    "import requests\n",
    "from tqdm import tqdm\n",
    "file_path = \"sky_conditions_20240701_20250830.json\""
   ]
  },
  {
   "cell_type": "code",
   "execution_count": 6,
   "id": "5014ca6e-f15b-4fda-935b-cc48d18204b6",
   "metadata": {},
   "outputs": [],
   "source": [
    "with open(file_path, 'r') as f:\n",
    "    data = json.load(f)"
   ]
  },
  {
   "cell_type": "code",
   "execution_count": 7,
   "id": "69e8ca35-678c-4ec8-9dee-11d442745830",
   "metadata": {},
   "outputs": [],
   "source": [
    "observations = [feat['properties'] for feat in data['features']]\n",
    "# print(json.dumps(observations[0], indent=2))\n",
    "# print('skyconditionsSouthPhotoUrl' in observations[0])"
   ]
  },
  {
   "cell_type": "code",
   "execution_count": 8,
   "id": "cc604d07-00fd-4241-812e-fc16a6a8ea34",
   "metadata": {},
   "outputs": [
    {
     "name": "stdout",
     "output_type": "stream",
     "text": [
      "77050\n",
      "341695\n"
     ]
    }
   ],
   "source": [
    "cloud_types = [\n",
    "    \"skyconditionsAltocumulus\",\n",
    "    \"skyconditionsAltostratus\",\n",
    "    \"skyconditionsCirrocumulus\",\n",
    "    \"skyconditionsCirrostratus\",\n",
    "    \"skyconditionsCirrus\",\n",
    "    \"skyconditionsCumulonimbus\",\n",
    "    \"skyconditionsCumulus\",\n",
    "    \"skyconditionsNimbostratus\",\n",
    "    \"skyconditionsStratocumulus\",\n",
    "    \"skyconditionsStratus\"\n",
    "]\n",
    "def has_cloud_type(obs):\n",
    "    return any(obs[cloud_type] == 'true' for cloud_type in cloud_types)\n",
    "\n",
    "photo_types = [\n",
    "    \"skyconditionsNorthPhotoUrl\",\n",
    "    \"skyconditionsSouthPhotoUrl\",\n",
    "    \"skyconditionsEastPhotoUrl\",\n",
    "    \"skyconditionsWestPhotoUrl\",\n",
    "    \"skyconditionsUpwardPhotoUrl\"\n",
    "]\n",
    "def has_photos(obs):\n",
    "    return any(obs[photo_type] != 'null' for photo_type in photo_types)\n",
    "def count_photos(obs):\n",
    "    return sum(int(obs[photo_type] != 'null') for photo_type in photo_types)\n",
    "\n",
    "print(sum(has_cloud_type(obs) and has_photos(obs) for obs in observations))\n",
    "print(sum(int(has_cloud_type(obs))*count_photos(obs) for obs in observations))"
   ]
  },
  {
   "cell_type": "code",
   "execution_count": 9,
   "id": "b1d955cb-d807-4afc-9945-d6b0622e4c80",
   "metadata": {},
   "outputs": [
    {
     "name": "stdout",
     "output_type": "stream",
     "text": [
      "number of observations: 334540\n",
      "types of data: {'jpg'}\n"
     ]
    }
   ],
   "source": [
    "rows = []\n",
    "for obs in observations:\n",
    "    if not (has_cloud_type(obs) and has_photos(obs)):\n",
    "        continue\n",
    "\n",
    "    one_hot = {ct[13:].lower(): int(obs[ct] == 'true') for ct in cloud_types}\n",
    "    for pt in photo_types:\n",
    "        photo_url = obs.get(pt)\n",
    "        # if photo_url == 'pending approval':\n",
    "        #     continue\n",
    "        # if photo_url[-3:] in {'peg', 'png', 'ted', 'JPG'}:\n",
    "        #     continue\n",
    "        if photo_url[-3:] != 'jpg':\n",
    "            continue\n",
    "        if photo_url and photo_url != 'null':\n",
    "            row = {'photo_url': photo_url}\n",
    "            row.update(one_hot)\n",
    "            rows.append(row)\n",
    "\n",
    "print(f'number of observations: {len(rows)}')\n",
    "s = set()\n",
    "for row in rows:\n",
    "    s.add(row['photo_url'][-3:])\n",
    "print(f'types of data: {s}')"
   ]
  },
  {
   "cell_type": "code",
   "execution_count": 10,
   "id": "acf75c3a-c45d-4859-9b1b-464972968fb1",
   "metadata": {},
   "outputs": [
    {
     "name": "stdout",
     "output_type": "stream",
     "text": [
      "                                           photo_url  altocumulus  \\\n",
      "0  https://data.globe.gov/system/photos/2025/08/3...            1   \n",
      "1  https://data.globe.gov/system/photos/2025/08/3...            1   \n",
      "2  https://data.globe.gov/system/photos/2025/08/3...            0   \n",
      "3  https://data.globe.gov/system/photos/2025/08/3...            0   \n",
      "4  https://data.globe.gov/system/photos/2025/08/3...            0   \n",
      "\n",
      "   altostratus  cirrocumulus  cirrostratus  cirrus  cumulonimbus  cumulus  \\\n",
      "0            1             0             0       0             0        1   \n",
      "1            1             0             0       0             0        1   \n",
      "2            1             0             0       0             0        0   \n",
      "3            1             0             0       0             0        0   \n",
      "4            1             0             0       0             0        0   \n",
      "\n",
      "   nimbostratus  stratocumulus  stratus  \n",
      "0             0              0        1  \n",
      "1             0              0        1  \n",
      "2             0              0        0  \n",
      "3             0              0        0  \n",
      "4             0              0        0  \n"
     ]
    }
   ],
   "source": [
    "df = pd.DataFrame(rows)\n",
    "print(df.head())"
   ]
  },
  {
   "cell_type": "code",
   "execution_count": null,
   "id": "6dd376b2-bfc1-4990-984b-757cb1617b53",
   "metadata": {},
   "outputs": [],
   "source": [
    "subset = df.head(2000)\n",
    "subset.to_csv('clouds_subset.csv', index=False)\n",
    "os.makedirs('cloud_images', exist_ok=True)\n",
    "\n",
    "image_paths = []\n",
    "for i, url in tqdm(enumerate(subset['photo_url']), total=len(subset)):\n",
    "    # try: \n",
    "    #     response = requests.get(url, timeout=10)\n",
    "    #     if response.status_code == 200:\n",
    "    filename = f'cloud_{i}.jpg'\n",
    "    filepath = os.path.join('cloud_images', filename)\n",
    "    # with open(filepath, 'wb') as f:\n",
    "    #     f.write(response.content)\n",
    "    image_paths.append(filepath)\n",
    "    #     else:\n",
    "    #         image_paths.append(None)\n",
    "    # except Exception as e:\n",
    "    #     image_paths.append(None)"
   ]
  },
  {
   "cell_type": "code",
   "execution_count": null,
   "id": "e8c47bbd-86c5-4485-8c0b-9ebd0db667d1",
   "metadata": {},
   "outputs": [],
   "source": [
    "subset['local_path'] = image_paths\n",
    "subset.to_csv('clouds_subset.csv', index=False)"
   ]
  }
 ],
 "metadata": {
  "kernelspec": {
   "display_name": "Python 3 (ipykernel)",
   "language": "python",
   "name": "python3"
  },
  "language_info": {
   "codemirror_mode": {
    "name": "ipython",
    "version": 3
   },
   "file_extension": ".py",
   "mimetype": "text/x-python",
   "name": "python",
   "nbconvert_exporter": "python",
   "pygments_lexer": "ipython3",
   "version": "3.10.12"
  }
 },
 "nbformat": 4,
 "nbformat_minor": 5
}
