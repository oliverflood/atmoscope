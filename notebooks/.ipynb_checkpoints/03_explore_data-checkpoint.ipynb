{
 "cells": [
  {
   "cell_type": "code",
   "execution_count": null,
   "id": "191516b2-7e13-4bae-a7ab-91381300d7bc",
   "metadata": {},
   "outputs": [],
   "source": [
    "import json\n",
    "import pandas as pd\n",
    "import os\n",
    "import requests\n",
    "from tqdm import tqdm"
   ]
  },
  {
   "cell_type": "code",
   "execution_count": null,
   "id": "0267b202-a920-4e58-af72-d8587c341e5c",
   "metadata": {},
   "outputs": [],
   "source": [
    "file_path = \"../data/raw/sky_conditions_20250815_20250901.json\"\n",
    "\n",
    "with open(file_path, 'r') as f:\n",
    "    data = json.load(f)\n",
    "\n",
    "observations = [feat['properties'] for feat in data['features']]"
   ]
  }
 ],
 "metadata": {
  "kernelspec": {
   "display_name": "Python (clouds)",
   "language": "python",
   "name": "clouds"
  },
  "language_info": {
   "codemirror_mode": {
    "name": "ipython",
    "version": 3
   },
   "file_extension": ".py",
   "mimetype": "text/x-python",
   "name": "python",
   "nbconvert_exporter": "python",
   "pygments_lexer": "ipython3",
   "version": "3.12.3"
  }
 },
 "nbformat": 4,
 "nbformat_minor": 5
}
