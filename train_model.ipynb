{
 "cells": [
  {
   "cell_type": "code",
   "execution_count": 15,
   "id": "4636f03f-4868-4f00-824e-ed34528760eb",
   "metadata": {},
   "outputs": [],
   "source": [
    "import torch\n",
    "import torch.nn as nn\n",
    "import torch.optim as optim\n",
    "from torch.utils.data import Dataset, DataLoader\n",
    "from torchvision import transforms, models\n",
    "from PIL import Image\n",
    "import pandas as pd\n",
    "from sklearn.model_selection import train_test_split\n",
    "import numpy as np\n",
    "from tqdm import tqdm"
   ]
  },
  {
   "cell_type": "code",
   "execution_count": 17,
   "id": "4c0e1c14-27d0-424b-a173-8759680232b5",
   "metadata": {},
   "outputs": [
    {
     "name": "stdout",
     "output_type": "stream",
     "text": [
      "Dataset size: 2000 images\n",
      "Columns: ['photo_url', 'altocumulus', 'altostratus', 'cirrocumulus', 'cirrostratus', 'cirrus', 'cumulonimbus', 'cumulus', 'nimbostratus', 'stratocumulus', 'stratus', 'local_path']\n",
      "Train: 1600, Test: 400\n",
      "Using device: cpu\n"
     ]
    },
    {
     "name": "stderr",
     "output_type": "stream",
     "text": [
      "/home/oliver/miniforge3/envs/clouds/lib/python3.12/site-packages/torchvision/models/_utils.py:208: UserWarning: The parameter 'pretrained' is deprecated since 0.13 and may be removed in the future, please use 'weights' instead.\n",
      "  warnings.warn(\n",
      "/home/oliver/miniforge3/envs/clouds/lib/python3.12/site-packages/torchvision/models/_utils.py:223: UserWarning: Arguments other than a weight enum or `None` for 'weights' are deprecated since 0.13 and may be removed in the future. The current behavior is equivalent to passing `weights=ResNet18_Weights.IMAGENET1K_V1`. You can also use `weights=ResNet18_Weights.DEFAULT` to get the most up-to-date weights.\n",
      "  warnings.warn(msg)\n"
     ]
    }
   ],
   "source": [
    "df = pd.read_csv('clouds_subset.csv')\n",
    "print(f\"Dataset size: {len(df)} images\")\n",
    "print(\"Columns:\", df.columns.tolist())\n",
    "\n",
    "class CloudDataset(Dataset):\n",
    "    def __init__(self, dataframe, transform=None):\n",
    "        self.df = dataframe.reset_index(drop=True)\n",
    "        self.transform = transform\n",
    "        self.cloud_types = self.df.columns[1:-1].tolist()\n",
    "\n",
    "    def __len__(self):\n",
    "        return len(self.df)\n",
    "\n",
    "    def __getitem__(self, idx):\n",
    "        row = self.df.iloc[idx]\n",
    "        img_path = row['local_path']\n",
    "        image = Image.open(img_path).convert(\"RGB\")\n",
    "        if self.transform:\n",
    "            image = self.transform(image)\n",
    "        \n",
    "        label_values = []\n",
    "        for cloud_type in self.cloud_types:\n",
    "            val = row[cloud_type]\n",
    "            try:\n",
    "                label_values.append(float(val))\n",
    "            except (ValueError, TypeError):\n",
    "                label_values.append(0.0)\n",
    "        \n",
    "        labels = torch.tensor(label_values, dtype=torch.float32)\n",
    "        return image, labels\n",
    "\n",
    "transform = transforms.Compose([\n",
    "    transforms.Resize((224, 224)),\n",
    "    transforms.ToTensor(),\n",
    "    transforms.Normalize(mean=[0.485, 0.456, 0.406],\n",
    "                         std=[0.229, 0.224, 0.225])\n",
    "])\n",
    "\n",
    "train_df, test_df = train_test_split(df, test_size=0.2, random_state=42)\n",
    "print(f\"Train: {len(train_df)}, Test: {len(test_df)}\")\n",
    "\n",
    "train_dataset = CloudDataset(train_df, transform=transform)\n",
    "test_dataset = CloudDataset(test_df, transform=transform)\n",
    "\n",
    "train_loader = DataLoader(train_dataset, batch_size=32, shuffle=True)\n",
    "test_loader = DataLoader(test_dataset, batch_size=32, shuffle=False)\n",
    "\n",
    "num_classes = len(train_dataset.cloud_types)\n",
    "model = models.resnet18(pretrained=True)\n",
    "model.fc = nn.Linear(model.fc.in_features, num_classes)\n",
    "\n",
    "criterion = nn.BCEWithLogitsLoss()\n",
    "optimizer = torch.optim.Adam(model.parameters(), lr=1e-4)\n",
    "\n",
    "device = \"cuda\" if torch.cuda.is_available() else \"cpu\"\n",
    "model = model.to(device)\n",
    "print(f\"Using device: {device}\")"
   ]
  },
  {
   "cell_type": "code",
   "execution_count": 18,
   "id": "db6e56f7-0077-4bea-9687-bdcebb1340eb",
   "metadata": {},
   "outputs": [
    {
     "name": "stderr",
     "output_type": "stream",
     "text": [
      "Epoch 1/5: 100%|███████████████████| 50/50 [01:30<00:00,  1.82s/it, loss=0.4279]\n"
     ]
    },
    {
     "name": "stdout",
     "output_type": "stream",
     "text": [
      "Epoch 1/5 completed, avg loss: 0.5511\n",
      "\n"
     ]
    },
    {
     "name": "stderr",
     "output_type": "stream",
     "text": [
      "Epoch 2/5: 100%|███████████████████| 50/50 [01:33<00:00,  1.88s/it, loss=0.3808]\n"
     ]
    },
    {
     "name": "stdout",
     "output_type": "stream",
     "text": [
      "Epoch 2/5 completed, avg loss: 0.3513\n",
      "\n"
     ]
    },
    {
     "name": "stderr",
     "output_type": "stream",
     "text": [
      "Epoch 3/5: 100%|███████████████████| 50/50 [01:31<00:00,  1.82s/it, loss=0.2356]\n"
     ]
    },
    {
     "name": "stdout",
     "output_type": "stream",
     "text": [
      "Epoch 3/5 completed, avg loss: 0.2584\n",
      "\n"
     ]
    },
    {
     "name": "stderr",
     "output_type": "stream",
     "text": [
      "Epoch 4/5: 100%|███████████████████| 50/50 [01:31<00:00,  1.83s/it, loss=0.1523]\n"
     ]
    },
    {
     "name": "stdout",
     "output_type": "stream",
     "text": [
      "Epoch 4/5 completed, avg loss: 0.1771\n",
      "\n"
     ]
    },
    {
     "name": "stderr",
     "output_type": "stream",
     "text": [
      "Epoch 5/5: 100%|███████████████████| 50/50 [01:30<00:00,  1.81s/it, loss=0.1280]"
     ]
    },
    {
     "name": "stdout",
     "output_type": "stream",
     "text": [
      "Epoch 5/5 completed, avg loss: 0.1181\n",
      "\n"
     ]
    },
    {
     "name": "stderr",
     "output_type": "stream",
     "text": [
      "\n"
     ]
    }
   ],
   "source": [
    "model.train()\n",
    "for epoch in range(5):\n",
    "    epoch_loss = 0\n",
    "    num_batches = 0\n",
    "    \n",
    "    train_bar = tqdm(train_loader, desc=f'Epoch {epoch+1}/5')\n",
    "    \n",
    "    for images, labels in train_bar:\n",
    "        images, labels = images.to(device), labels.to(device)\n",
    "        optimizer.zero_grad()\n",
    "        outputs = model(images)\n",
    "        loss = criterion(outputs, labels)\n",
    "        loss.backward()\n",
    "        optimizer.step()\n",
    "        \n",
    "        epoch_loss += loss.item()\n",
    "        num_batches += 1\n",
    "        \n",
    "        train_bar.set_postfix({'loss': f'{loss.item():.4f}'})\n",
    "    \n",
    "    avg_loss = epoch_loss / num_batches\n",
    "    print(f\"Epoch {epoch+1}/5 completed, avg loss: {avg_loss:.4f}\")\n",
    "    print()"
   ]
  },
  {
   "cell_type": "code",
   "execution_count": 19,
   "id": "7ed97ee1-cf67-4c29-95d9-02267bf6cc38",
   "metadata": {},
   "outputs": [
    {
     "name": "stdout",
     "output_type": "stream",
     "text": [
      "\n",
      "Test accuracy (exact match): 0.2150\n"
     ]
    }
   ],
   "source": [
    "model.eval()\n",
    "correct_predictions = 0\n",
    "total_samples = 0\n",
    "\n",
    "with torch.no_grad():\n",
    "    for images, labels in test_loader:\n",
    "        images, labels = images.to(device), labels.to(device)\n",
    "        outputs = model(images)\n",
    "        predictions = torch.sigmoid(outputs) > 0.5\n",
    "        \n",
    "        exact_matches = (predictions == labels).all(dim=1).sum().item()\n",
    "        correct_predictions += exact_matches\n",
    "        total_samples += labels.size(0)\n",
    "\n",
    "accuracy = correct_predictions / total_samples\n",
    "print(f\"\\nTest accuracy (exact match): {accuracy:.4f}\")"
   ]
  },
  {
   "cell_type": "code",
   "execution_count": 20,
   "id": "1b2346f9-2bad-4009-a70e-2c8e75e97e39",
   "metadata": {},
   "outputs": [
    {
     "name": "stdout",
     "output_type": "stream",
     "text": [
      "Model saved as 'cloud_model.pth'\n"
     ]
    }
   ],
   "source": [
    "torch.save(model.state_dict(), 'cloud_model.pth')"
   ]
  },
  {
   "cell_type": "code",
   "execution_count": 22,
   "id": "81dd5962-62ef-4562-93e0-08d1b6fc1416",
   "metadata": {},
   "outputs": [
    {
     "name": "stdout",
     "output_type": "stream",
     "text": [
      "Predicted cloud types: ['altocumulus', 'altostratus', 'cumulus', 'stratus']\n"
     ]
    },
    {
     "data": {
      "text/plain": [
       "['altocumulus', 'altostratus', 'cumulus', 'stratus']"
      ]
     },
     "execution_count": 22,
     "metadata": {},
     "output_type": "execute_result"
    }
   ],
   "source": [
    "def predict_image(image_path):\n",
    "    model.eval()\n",
    "    image = Image.open(image_path).convert(\"RGB\")\n",
    "    image_tensor = transform(image).unsqueeze(0).to(device)\n",
    "    \n",
    "    with torch.no_grad():\n",
    "        output = model(image_tensor)\n",
    "        probabilities = torch.sigmoid(output)[0]\n",
    "        predictions = (probabilities > 0.5).cpu().numpy()\n",
    "    \n",
    "    cloud_types = train_dataset.cloud_types\n",
    "    predicted_types = [cloud_types[i] for i, pred in enumerate(predictions) if pred]\n",
    "    \n",
    "    print(f\"Predicted cloud types: {predicted_types}\")\n",
    "    return predicted_types\n",
    "\n",
    "predict_image('cloud_images/cloud_0.jpg')"
   ]
  },
  {
   "cell_type": "code",
   "execution_count": 28,
   "id": "15f83ef9-1148-45fe-b4b6-df753f0ada1b",
   "metadata": {},
   "outputs": [
    {
     "name": "stdout",
     "output_type": "stream",
     "text": [
      "Dataset size: 1000 images\n",
      "Columns: ['photo_url', 'altocumulus', 'altostratus', 'cirrocumulus', 'cirrostratus', 'cirrus', 'cumulonimbus', 'cumulus', 'nimbostratus', 'stratocumulus', 'stratus', 'local_path']\n",
      "2000\n"
     ]
    },
    {
     "name": "stderr",
     "output_type": "stream",
     "text": [
      "Validating: 100%|███████████████| 32/32 [00:30<00:00,  1.04it/s, val_acc=0.0790]"
     ]
    },
    {
     "name": "stdout",
     "output_type": "stream",
     "text": [
      "\n",
      "Validation Results:\n",
      "  Accuracy (exact match): 0.0790\n",
      "  Average loss: 0.5966\n",
      "  Correct predictions: 79/1000\n",
      "\n",
      "Per-label accuracy:\n",
      "  altocumulus: 0.596\n",
      "  altostratus: 0.772\n",
      "  cirrocumulus: 0.748\n",
      "  cirrostratus: 0.781\n",
      "  cirrus: 0.738\n",
      "  cumulonimbus: 0.873\n",
      "  cumulus: 0.598\n",
      "  nimbostratus: 0.848\n",
      "  stratocumulus: 0.722\n",
      "  stratus: 0.926\n"
     ]
    },
    {
     "name": "stderr",
     "output_type": "stream",
     "text": [
      "\n"
     ]
    }
   ],
   "source": [
    "val_df = pd.read_csv('clouds_val.csv')\n",
    "print(f\"Dataset size: {len(val_df)} images\")\n",
    "print(\"Columns:\", val_df.columns.tolist())\n",
    "\n",
    "val_dataset = CloudDataset(val_df, transform=transform)\n",
    "val_loader = DataLoader(val_dataset, batch_size=32, shuffle=False)\n",
    "\n",
    "model.eval()\n",
    "val_correct = 0\n",
    "val_total = 0\n",
    "val_loss = 0\n",
    "\n",
    "with torch.no_grad():\n",
    "    val_bar = tqdm(val_loader, desc='Validating')\n",
    "    all_preds = []\n",
    "    all_labels = []\n",
    "    \n",
    "    for images, labels in val_bar:\n",
    "        images, labels = images.to(device), labels.to(device)\n",
    "        outputs = model(images)\n",
    "        loss = criterion(outputs, labels)\n",
    "        val_loss += loss.item()\n",
    "        \n",
    "        predictions = torch.sigmoid(outputs) > 0.5\n",
    "        \n",
    "        all_preds.append(predictions.cpu())\n",
    "        all_labels.append(labels.cpu())\n",
    "        \n",
    "        exact_matches = (predictions == labels).all(dim=1).sum().item()\n",
    "        val_correct += exact_matches\n",
    "        val_total += labels.size(0)\n",
    "        \n",
    "        val_bar.set_postfix({'val_acc': f'{val_correct/val_total:.4f}'})\n",
    "\n",
    "val_accuracy = val_correct / val_total\n",
    "avg_val_loss = val_loss / len(val_loader)\n",
    "print(f\"\\nValidation Results:\")\n",
    "print(f\"  Accuracy (exact match): {val_accuracy:.4f}\")\n",
    "print(f\"  Average loss: {avg_val_loss:.4f}\")\n",
    "print(f\"  Correct predictions: {val_correct}/{val_total}\")\n",
    "\n",
    "all_preds = torch.cat(all_preds)\n",
    "all_labels = torch.cat(all_labels)\n",
    "\n",
    "print(f\"\\nPer-label accuracy:\")\n",
    "for i, cloud_type in enumerate(val_dataset.cloud_types):\n",
    "    correct = (all_preds[:, i] == all_labels[:, i]).sum().item()\n",
    "    total = len(all_labels)\n",
    "    print(f\"  {cloud_type}: {correct/total:.3f}\")"
   ]
  }
 ],
 "metadata": {
  "kernelspec": {
   "display_name": "Python (clouds)",
   "language": "python",
   "name": "clouds"
  },
  "language_info": {
   "codemirror_mode": {
    "name": "ipython",
    "version": 3
   },
   "file_extension": ".py",
   "mimetype": "text/x-python",
   "name": "python",
   "nbconvert_exporter": "python",
   "pygments_lexer": "ipython3",
   "version": "3.12.3"
  }
 },
 "nbformat": 4,
 "nbformat_minor": 5
}
